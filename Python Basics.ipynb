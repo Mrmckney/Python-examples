{
 "cells": [
  {
   "cell_type": "markdown",
   "id": "a0a155c7",
   "metadata": {},
   "source": [
    "# Python basics\n",
    "This notebook goes over some basic Python operations."
   ]
  },
  {
   "cell_type": "code",
   "execution_count": 1,
   "id": "5c03c19c",
   "metadata": {
    "scrolled": true
   },
   "outputs": [
    {
     "data": {
      "text/plain": [
       "2401"
      ]
     },
     "execution_count": 1,
     "metadata": {},
     "output_type": "execute_result"
    }
   ],
   "source": [
    "7 ** 4"
   ]
  },
  {
   "cell_type": "code",
   "execution_count": 3,
   "id": "b7a13eeb",
   "metadata": {},
   "outputs": [],
   "source": [
    "str = 'Hello Boca Code!'"
   ]
  },
  {
   "cell_type": "code",
   "execution_count": 4,
   "id": "6019050e",
   "metadata": {},
   "outputs": [
    {
     "data": {
      "text/plain": [
       "'Hello Boca Code!'"
      ]
     },
     "execution_count": 4,
     "metadata": {},
     "output_type": "execute_result"
    }
   ],
   "source": [
    "str\n"
   ]
  },
  {
   "cell_type": "code",
   "execution_count": 5,
   "id": "a305f1a0",
   "metadata": {},
   "outputs": [
    {
     "name": "stdout",
     "output_type": "stream",
     "text": [
      "Hello Boca Code!\n"
     ]
    }
   ],
   "source": [
    "print(str)"
   ]
  },
  {
   "cell_type": "code",
   "execution_count": 31,
   "id": "14310464",
   "metadata": {},
   "outputs": [],
   "source": [
    "planet = 'Earth'\n",
    "diameter = 12742"
   ]
  },
  {
   "cell_type": "code",
   "execution_count": 32,
   "id": "e68a24b4",
   "metadata": {},
   "outputs": [
    {
     "name": "stdout",
     "output_type": "stream",
     "text": [
      "The Diameter of Earth is 12742 kilometer\n"
     ]
    }
   ],
   "source": [
    "print('The Diameter of {} is {} kilometer'.format(planet, diameter))"
   ]
  },
  {
   "cell_type": "code",
   "execution_count": 33,
   "id": "4cc1f2b4",
   "metadata": {},
   "outputs": [
    {
     "name": "stdout",
     "output_type": "stream",
     "text": [
      "The Diameter of Earth is 12742 kilometers.\n"
     ]
    }
   ],
   "source": [
    "print(f'The Diameter of {planet} is {diameter} kilometers.')"
   ]
  },
  {
   "cell_type": "code",
   "execution_count": 14,
   "id": "fc8d1c4f",
   "metadata": {},
   "outputs": [],
   "source": [
    "messedup = [1,2,[3,4],[5,[100,200,['hello']],23,11],1,7]"
   ]
  },
  {
   "cell_type": "code",
   "execution_count": 21,
   "id": "e2c891fb",
   "metadata": {},
   "outputs": [
    {
     "data": {
      "text/plain": [
       "'hello'"
      ]
     },
     "execution_count": 21,
     "metadata": {},
     "output_type": "execute_result"
    }
   ],
   "source": [
    "messedup[3][1][2][0]"
   ]
  },
  {
   "cell_type": "markdown",
   "id": "d60ba867",
   "metadata": {},
   "source": [
    "## Challenge:\n",
    "You're driving too fast! An officer stops you. Write a function to return one of 3 possible results: 'No ticket',\n",
    "'Small ticket', or 'Big ticket'. If your speed is 60 or less, result is 'No ticket'. If speed is between 61 and 80\n",
    "inclusive, the results is 'Small ticket'. If speed is 81 or more,  the result is 'Big ticket' unless it is your birthday. If it is your birthday (passed as a Boolean), your speed can be 5 mph faster in all cases"
   ]
  },
  {
   "cell_type": "code",
   "execution_count": 52,
   "id": "e6d74a09",
   "metadata": {},
   "outputs": [],
   "source": [
    "def caught_speeding(speed, is_birthday):\n",
    "    if is_birthday:\n",
    "        effective_speed = speed - 5\n",
    "    else:\n",
    "        effective_speed = speed\n",
    "    if effective_speed > 80:\n",
    "        return 'Big Ticket'\n",
    "    elif effective_speed > 60:\n",
    "        return 'Small Ticket'\n",
    "    else:\n",
    "        return 'No ticket'"
   ]
  },
  {
   "cell_type": "code",
   "execution_count": 53,
   "id": "b6725c34",
   "metadata": {},
   "outputs": [
    {
     "data": {
      "text/plain": [
       "'Small Ticket'"
      ]
     },
     "execution_count": 53,
     "metadata": {},
     "output_type": "execute_result"
    }
   ],
   "source": [
    "caught_speeding(81, True) "
   ]
  },
  {
   "cell_type": "code",
   "execution_count": 54,
   "id": "e9d40dda",
   "metadata": {},
   "outputs": [
    {
     "data": {
      "text/plain": [
       "'Big Ticket'"
      ]
     },
     "execution_count": 54,
     "metadata": {},
     "output_type": "execute_result"
    }
   ],
   "source": [
    "caught_speeding(81, False) "
   ]
  },
  {
   "cell_type": "code",
   "execution_count": null,
   "id": "1303ef05",
   "metadata": {},
   "outputs": [],
   "source": []
  }
 ],
 "metadata": {
  "kernelspec": {
   "display_name": "Python 3",
   "language": "python",
   "name": "python3"
  },
  "language_info": {
   "codemirror_mode": {
    "name": "ipython",
    "version": 3
   },
   "file_extension": ".py",
   "mimetype": "text/x-python",
   "name": "python",
   "nbconvert_exporter": "python",
   "pygments_lexer": "ipython3",
   "version": "3.8.8"
  }
 },
 "nbformat": 4,
 "nbformat_minor": 5
}
